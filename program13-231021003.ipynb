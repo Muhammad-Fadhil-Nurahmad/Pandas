{
 "cells": [
  {
   "cell_type": "code",
   "execution_count": 177,
   "metadata": {},
   "outputs": [],
   "source": [
    "import pandas as pd\n",
    "import numpy as np\n",
    "# import matplotlib.pyplot as plt"
   ]
  },
  {
   "cell_type": "code",
   "execution_count": null,
   "metadata": {},
   "outputs": [],
   "source": [
    "student_data = [\n",
    "    [100,90,10],\n",
    "    [90,70,7],\n",
    "    [120,100,14],\n",
    "    [80,50,2],\n",
    "]\n",
    "\n",
    "# pd.DataFrame(student_data)\n",
    "df = pd.DataFrame(student_data, columns=['iq','marks','package'], index=['Reno','Ryan','Ryo','Fadhil']) #index = untuk mengubah nama baris\n",
    "# df =pd.DataFrame(student_data, columns=['iq','marks','package'])\n",
    "df\n",
    "\n"
   ]
  },
  {
   "cell_type": "code",
   "execution_count": null,
   "metadata": {},
   "outputs": [],
   "source": [
    "df.columns = ['a','b','c'] #ganti nama kolom\n",
    "df"
   ]
  },
  {
   "cell_type": "code",
   "execution_count": null,
   "metadata": {},
   "outputs": [],
   "source": [
    "# using dictionary\n",
    "\n",
    "student_dict = {\n",
    "    'iq'        : [100, 90, 80, 120, 0, 0],\n",
    "    'marks'     : [80, 70, 100, 90, 0, 0],\n",
    "    'package'   : [10, 7, 14, 2, 0, 0],\n",
    "}\n",
    " \n",
    "students = pd.DataFrame(student_dict)\n",
    "students"
   ]
  },
  {
   "cell_type": "code",
   "execution_count": null,
   "metadata": {},
   "outputs": [],
   "source": [
    "students[['iq']] #untuk mengambil nilai salah satu kolom"
   ]
  },
  {
   "cell_type": "code",
   "execution_count": null,
   "metadata": {},
   "outputs": [],
   "source": [
    "data_harga = pd.read_csv('ms_harga_harian.csv')\n",
    "data_harga"
   ]
  },
  {
   "cell_type": "code",
   "execution_count": null,
   "metadata": {},
   "outputs": [],
   "source": [
    "print(data_harga.shape)\n",
    "print(data_harga.columns)"
   ]
  },
  {
   "cell_type": "code",
   "execution_count": null,
   "metadata": {},
   "outputs": [],
   "source": [
    "data_harga.info()"
   ]
  },
  {
   "cell_type": "code",
   "execution_count": null,
   "metadata": {},
   "outputs": [],
   "source": [
    "data_harga.describe()"
   ]
  },
  {
   "cell_type": "code",
   "execution_count": null,
   "metadata": {},
   "outputs": [],
   "source": [
    "data_harga.head() #untuk menampilkan 5 data teratas"
   ]
  },
  {
   "cell_type": "code",
   "execution_count": null,
   "metadata": {},
   "outputs": [],
   "source": [
    "data_harga.tail() # untuk menampilkan 5 data terbawah"
   ]
  },
  {
   "cell_type": "code",
   "execution_count": null,
   "metadata": {},
   "outputs": [],
   "source": [
    "data_harga [2:12:2]"
   ]
  },
  {
   "cell_type": "code",
   "execution_count": null,
   "metadata": {},
   "outputs": [],
   "source": [
    "dh5000 = data_harga[(data_harga['modal_cabang'] < 5000)] #menampilkan harga modal cabamg yang kurang dari 5000\n",
    "dh5000"
   ]
  },
  {
   "cell_type": "code",
   "execution_count": null,
   "metadata": {},
   "outputs": [],
   "source": [
    "# dh5000['kode_cabang'].unique() #untuk mengetahui cabang yang memiliki modal cabang yang kurang dari 5000\n",
    "(dh5000['kode_produk'].unique()) #untuk mengetahui cabang yang memiliki modal cabang yang kurang dari 5000"
   ]
  },
  {
   "cell_type": "code",
   "execution_count": null,
   "metadata": {},
   "outputs": [],
   "source": [
    "data_harga.head()"
   ]
  },
  {
   "cell_type": "code",
   "execution_count": null,
   "metadata": {},
   "outputs": [],
   "source": [
    "data_harga['tambahan_modal'] = data_harga['modal_cabang'] + 5000\n",
    "data_harga.head()"
   ]
  },
  {
   "cell_type": "markdown",
   "metadata": {},
   "source": [
    "$$DATA-PRODUK$$"
   ]
  },
  {
   "cell_type": "code",
   "execution_count": null,
   "metadata": {},
   "outputs": [],
   "source": [
    "produk = pd.read_csv('ms_produk.csv')\n",
    "produk"
   ]
  },
  {
   "cell_type": "markdown",
   "metadata": {},
   "source": [
    "$$TUGAS$$"
   ]
  },
  {
   "cell_type": "markdown",
   "metadata": {},
   "source": [
    "$$SOAL-1$$"
   ]
  },
  {
   "cell_type": "code",
   "execution_count": null,
   "metadata": {},
   "outputs": [],
   "source": [
    "data_harga['nama produk'] = produk['nama_produk']\n",
    "data_harga[0:42]"
   ]
  },
  {
   "cell_type": "code",
   "execution_count": null,
   "metadata": {},
   "outputs": [],
   "source": [
    "# jumlah seluruh harga yng berlaku\n",
    "data_harga.loc[(data_harga['kode_produk'] >= \"PROD-0000001\") & (data_harga['kode_produk'] <= \"PROD-0000041\"), 'harga_berlaku_cabang'].sum()"
   ]
  },
  {
   "cell_type": "markdown",
   "metadata": {},
   "source": [
    "$$SOAL-2$$"
   ]
  },
  {
   "cell_type": "code",
   "execution_count": null,
   "metadata": {},
   "outputs": [],
   "source": [
    "results = []\n",
    "for i in range(1, 41):\n",
    "    kode_produk = f\"PROD-00000{i:02d}\"\n",
    "    total_harga = sum(data_harga[(data_harga['kode_produk'] == kode_produk)]['harga_berlaku_cabang'])\n",
    "    results.append({'kode_produk': kode_produk, 'total_harga': total_harga})\n",
    "\n",
    "df = pd.DataFrame(results)\n",
    "print(df)\n",
    "\n",
    "data_harga['total'] = df['total_harga']\n",
    "data_harga.head(42)"
   ]
  },
  {
   "cell_type": "code",
   "execution_count": 209,
   "metadata": {},
   "outputs": [
    {
     "data": {
      "text/plain": [
       "1098"
      ]
     },
     "execution_count": 209,
     "metadata": {},
     "output_type": "execute_result"
    }
   ],
   "source": [
    "# len(data_harga[(data_harga['kode_produk'] == \"PROD-0000001\")])"
   ]
  },
  {
   "cell_type": "code",
   "execution_count": null,
   "metadata": {},
   "outputs": [],
   "source": [
    "results = []\n",
    "for i in range(1, 41):\n",
    "    kode_produk = f\"PROD-00000{i:02d}\"\n",
    "    total_produk = len(data_harga[(data_harga['kode_produk'] == kode_produk)])\n",
    "    results.append({'kode_produk': kode_produk, 'total_produk': total_harga})\n",
    "\n",
    "df = pd.DataFrame(results)\n",
    "print(df)\n",
    "\n",
    "data_harga['jumlah_produk'] = df['total_produk']\n",
    "data_harga.head(42)"
   ]
  }
 ],
 "metadata": {
  "kernelspec": {
   "display_name": "Python 3",
   "language": "python",
   "name": "python3"
  },
  "language_info": {
   "codemirror_mode": {
    "name": "ipython",
    "version": 3
   },
   "file_extension": ".py",
   "mimetype": "text/x-python",
   "name": "python",
   "nbconvert_exporter": "python",
   "pygments_lexer": "ipython3",
   "version": "3.11.9"
  }
 },
 "nbformat": 4,
 "nbformat_minor": 2
}
